{
 "cells": [
  {
   "cell_type": "code",
   "execution_count": 33,
   "metadata": {},
   "outputs": [],
   "source": [
    "import requests\n",
    "url = 'http://127.0.0.1:8000'"
   ]
  },
  {
   "cell_type": "code",
   "execution_count": 60,
   "metadata": {},
   "outputs": [
    {
     "data": {
      "text/plain": [
       "'<!DOCTYPE html>\\n<html lang=\"en\">\\n<head>\\n    <meta charset=\"UTF-8\">\\n    <meta http-equiv=\"X-UA-Compatible\" content=\"IE=edge\">\\n    <meta name=\"viewport\" content=\"width=device-width, initial-scale=1.0\">\\n    <title> Login | Let\\'s Ride</title>\\n    <link href=\"https://cdn.jsdelivr.net/npm/bootstrap@5.2.3/dist/css/bootstrap.min.css\" rel=\"stylesheet\" integrity=\"sha384-rbsA2VBKQhggwzxH7pPCaAqO46MgnOM80zW1RWuH61DGLwZJEdK2Kadq2F9CUG65\" crossorigin=\"anonymous\">\\n\\n</head>\\n<body>\\n\\n    <nav class=\"navbar navbar-fixed-top navbar-expand-lg navbar-dark bg-primary\">\\n        <a class=\"navbar-brand\" href=\"/\">Lets Ride</a>\\n        <button class=\"navbar-toggler\" type=\"button\" data-toggle=\"collapse\" data-target=\"#navbarText\" aria-controls=\"navbarText\" aria-expanded=\"false\" aria-label=\"Toggle navigation\">\\n          <span class=\"navbar-toggler-icon\"></span>\\n        </button>\\n        <div class=\"collapse navbar-collapse\" id=\"navbarText\">\\n          <ul class=\"container navbar-nav mr-auto\">\\n            <li class=\"nav-item active\">\\n              <a class=\"nav-link\" href=\"/home/\">Home</a>\\n            </li>\\n            \\n            <li class=\"nav-item\">\\n              <a class=\"nav-link\" href=\"/signin/\">Sign in</a>\\n            </li>\\n            <li class=\"nav-item\">\\n              <a class=\"nav-link\" href=\"/signup\">Sign up</a>\\n            </li>\\n            \\n          </ul>\\n          \\n        </div>\\n      </nav>\\n\\n\\n    \\n\\n\\n    \\n    <div class=\"d-flex justify-content-center align-items-center card shadow-sm mt-5 p-5 \">\\n\\n   \\n\\n\\n\\n\\n\\n<form method=\"POST\">\\n \\n    \\n\\n    <input type=\"hidden\" name=\"csrfmiddlewaretoken\" value=\"rWZmYNb8NhnA5hrXchhVB5ppp9l7yYvkBKDe7NoNUUubVZqPA2FlYRWv33xyfrRX\">\\n    \\n\\n<div id=\"div_id_email\" class=\"mb-3\"> <label for=\"id_email\" class=\"form-label requiredField\">\\n                Email<span class=\"asteriskField\">*</span> </label> <input type=\"email\" name=\"email\" class=\"emailinput form-control is-invalid\" required id=\"id_email\"> <p id=\"error_1_id_email\" class=\"invalid-feedback\"><strong>This field is required.</strong></p> </div> <div id=\"div_id_password\" class=\"mb-3\"> <label for=\"id_password\" class=\"form-label requiredField\">\\n                Password<span class=\"asteriskField\">*</span> </label> <input type=\"password\" name=\"password\" class=\"textinput textInput form-control is-invalid\" required id=\"id_password\"> <p id=\"error_1_id_password\" class=\"invalid-feedback\"><strong>This field is required.</strong></p> </div>\\n\\n\\n    <button class=\"btn btn-primary\" type=\"submit\">Login</button>\\n\\n</form>\\n\\n\\n\\n\\n\\n\\n  </div>\\n    \\n    <script src=\"https://cdnjs.cloudflare.com/ajax/libs/jquery/2.2.4/jquery.min.js\"></script>\\n    <script src=\"https://cdn.jsdelivr.net/npm/bootstrap@5.2.3/dist/js/bootstrap.bundle.min.js\" integrity=\"sha384-kenU1KFdBIe4zVF0s0G1M5b4hcpxyD9F7jL+jjXkk+Q2h455rYXK/7HAuoJl+0I4\" crossorigin=\"anonymous\"></script>\\n\\n    <script>\\n      $(document).ready(function() {\\n        $(\".alert-dismissible\").fadeTo(3000, 500).slideUp(500, function(){\\n            $(\".alert-dismissible\").alert(\\'close\\');\\n        });\\n      });\\n    </script>\\n</body>\\n</html>'"
      ]
     },
     "execution_count": 60,
     "metadata": {},
     "output_type": "execute_result"
    }
   ],
   "source": [
    "requests.get(url).text"
   ]
  },
  {
   "cell_type": "code",
   "execution_count": 65,
   "metadata": {},
   "outputs": [
    {
     "name": "stdout",
     "output_type": "stream",
     "text": [
      "The response from the server is: \n",
      " b'\\n<!DOCTYPE html>\\n<html lang=\"en\">\\n<head>\\n  <meta http-equiv=\"content-type\" content=\"text/html; charset=utf-8\">\\n  <meta name=\"robots\" content=\"NONE,NOARCHIVE\">\\n  <title>403 Forbidden</title>\\n  <style type=\"text/css\">\\n    html * { padding:0; margin:0; }\\n    body * { padding:10px 20px; }\\n    body * * { padding:0; }\\n    body { font:small sans-serif; background:#eee; color:#000; }\\n    body>div { border-bottom:1px solid #ddd; }\\n    h1 { font-weight:normal; margin-bottom:.4em; }\\n    h1 span { font-size:60%; color:#666; font-weight:normal; }\\n    #info { background:#f6f6f6; }\\n    #info ul { margin: 0.5em 4em; }\\n    #info p, #summary p { padding-top:10px; }\\n    #summary { background: #ffc; }\\n    #explanation { background:#eee; border-bottom: 0px none; }\\n  </style>\\n</head>\\n<body>\\n<div id=\"summary\">\\n  <h1>Forbidden <span>(403)</span></h1>\\n  <p>CSRF verification failed. Request aborted.</p>\\n\\n\\n  <p>You are seeing this message because this site requires a CSRF cookie when submitting forms. This cookie is required for security reasons, to ensure that your browser is not being hijacked by third parties.</p>\\n  <p>If you have configured your browser to disable cookies, please re-enable them, at least for this site, or for \\xe2\\x80\\x9csame-origin\\xe2\\x80\\x9d requests.</p>\\n\\n</div>\\n\\n<div id=\"info\">\\n  <h2>Help</h2>\\n    \\n    <p>Reason given for failure:</p>\\n    <pre>\\n    CSRF cookie not set.\\n    </pre>\\n    \\n\\n  <p>In general, this can occur when there is a genuine Cross Site Request Forgery, or when\\n  <a\\n  href=\"https://docs.djangoproject.com/en/4.1/ref/csrf/\">Django\\xe2\\x80\\x99s\\n  CSRF mechanism</a> has not been used correctly.  For POST forms, you need to\\n  ensure:</p>\\n\\n  <ul>\\n    <li>Your browser is accepting cookies.</li>\\n\\n    <li>The view function passes a <code>request</code> to the template\\xe2\\x80\\x99s <a\\n    href=\"https://docs.djangoproject.com/en/dev/topics/templates/#django.template.backends.base.Template.render\"><code>render</code></a>\\n    method.</li>\\n\\n    <li>In the template, there is a <code>{% csrf_token\\n    %}</code> template tag inside each POST form that\\n    targets an internal URL.</li>\\n\\n    <li>If you are not using <code>CsrfViewMiddleware</code>, then you must use\\n    <code>csrf_protect</code> on any views that use the <code>csrf_token</code>\\n    template tag, as well as those that accept the POST data.</li>\\n\\n    <li>The form has a valid CSRF token. After logging in in another browser\\n    tab or hitting the back button after a login, you may need to reload the\\n    page with the form, because the token is rotated after a login.</li>\\n  </ul>\\n\\n  <p>You\\xe2\\x80\\x99re seeing the help section of this page because you have <code>DEBUG =\\n  True</code> in your Django settings file. Change that to <code>False</code>,\\n  and only the initial error message will be displayed.  </p>\\n\\n  <p>You can customize this page using the CSRF_FAILURE_VIEW setting.</p>\\n</div>\\n\\n</body>\\n</html>\\n'\n"
     ]
    }
   ],
   "source": [
    "# Signin in\n",
    "\n",
    "form_data = {'email': 'amitsah449@gmail.com', 'password': 'Amit@123'}\n",
    "\n",
    "server = requests.post(f'{url}/signin/', data=form_data)\n",
    "\n",
    "output = server.content\n",
    "\n",
    "print('The response from the server is: \\n', output)"
   ]
  },
  {
   "cell_type": "code",
   "execution_count": null,
   "metadata": {},
   "outputs": [],
   "source": []
  }
 ],
 "metadata": {
  "kernelspec": {
   "display_name": "Python 3.8.10 ('lrvenv': venv)",
   "language": "python",
   "name": "python3"
  },
  "language_info": {
   "codemirror_mode": {
    "name": "ipython",
    "version": 3
   },
   "file_extension": ".py",
   "mimetype": "text/x-python",
   "name": "python",
   "nbconvert_exporter": "python",
   "pygments_lexer": "ipython3",
   "version": "3.8.10"
  },
  "orig_nbformat": 4,
  "vscode": {
   "interpreter": {
    "hash": "99c6cce866519b84bf95727f2deb98034086f306a36393e552f4fc0710c8cc1f"
   }
  }
 },
 "nbformat": 4,
 "nbformat_minor": 2
}
